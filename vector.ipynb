{
  "nbformat": 4,
  "nbformat_minor": 0,
  "metadata": {
    "colab": {
      "name": "vector.ipynb",
      "provenance": [],
      "collapsed_sections": []
    },
    "kernelspec": {
      "name": "python3",
      "display_name": "Python 3"
    },
    "language_info": {
      "name": "python"
    },
    "accelerator": "GPU"
  },
  "cells": [
    {
      "cell_type": "code",
      "metadata": {
        "id": "LR3f05H9xAhW"
      },
      "source": [
        "import matplotlib.pyplot as plt\n",
        "import numpy as np\n",
        "import pandas as pd\n",
        "import os\n",
        "import PIL\n",
        "import tensorflow as tf\n",
        "import itertools\n",
        "import shutil\n",
        "import random\n",
        "import glob\n",
        "import requests\n",
        "import gzip\n",
        "import math\n",
        "\n",
        "from collections import Counter\n",
        "from tensorflow import keras\n",
        "from tensorflow.keras import layers\n",
        "from tensorflow.keras.models import Sequential\n",
        "from tensorflow.keras.layers import Activation, Dense, Flatten, BatchNormalization, Conv2D, MaxPool2D, Dropout\n",
        "from tensorflow.keras.optimizers import Adam\n",
        "from tensorflow.keras.metrics import categorical_crossentropy\n",
        "from tensorflow.keras.preprocessing.image import ImageDataGenerator\n",
        "from sklearn.metrics import confusion_matrix\n",
        "from tensorflow.keras.callbacks import EarlyStopping, ReduceLROnPlateau, ModelCheckpoint\n",
        "%matplotlib inline"
      ],
      "execution_count": 2,
      "outputs": []
    },
    {
      "cell_type": "code",
      "metadata": {
        "colab": {
          "base_uri": "https://localhost:8080/"
        },
        "id": "l99FUoetFy7J",
        "outputId": "7207df56-d2a1-4d9a-9f03-0a812dfb7546"
      },
      "source": [
        "print(\"Num GPUs Available: \", len(tf.config.list_physical_devices('GPU')))"
      ],
      "execution_count": 3,
      "outputs": [
        {
          "output_type": "stream",
          "name": "stdout",
          "text": [
            "Num GPUs Available:  1\n"
          ]
        }
      ]
    },
    {
      "cell_type": "code",
      "metadata": {
        "id": "MIEwLnT1rdKs"
      },
      "source": [
        "from google.colab import drive\n",
        "drive.mount('/content/gdrive')"
      ],
      "execution_count": null,
      "outputs": []
    },
    {
      "cell_type": "code",
      "metadata": {
        "colab": {
          "base_uri": "https://localhost:8080/"
        },
        "id": "YMANlnBTgszl",
        "outputId": "4f15558c-d2dc-4f8c-b0fb-c9ec86b48b3f"
      },
      "source": [
        "path = 'vector_fashion'\n",
        "\n",
        "def download_fmnist(path):\n",
        "    DEFAULT_SOURCE_URL = 'http://fashion-mnist.s3-website.eu-central-1.amazonaws.com/'\n",
        "    files = dict(\n",
        "        TRAIN_IMAGES='train-images-idx3-ubyte.gz',\n",
        "        TRAIN_LABELS='train-labels-idx1-ubyte.gz',\n",
        "        TEST_IMAGES='t10k-images-idx3-ubyte.gz',\n",
        "        TEST_LABELS='t10k-labels-idx1-ubyte.gz')\n",
        "    if not os.path.exists(path):\n",
        "        os.mkdir(path)\n",
        "    for f in files:\n",
        "        filepath = os.path.join(path, files[f])\n",
        "        if not os.path.exists(filepath):\n",
        "            url = DEFAULT_SOURCE_URL + files[f]\n",
        "            r = requests.get(url, allow_redirects=True)\n",
        "\n",
        "            open(filepath, 'wb').write(r.content)\n",
        "\n",
        "            print('Successfully downloaded', f)\n",
        "download_fmnist(path)"
      ],
      "execution_count": 4,
      "outputs": [
        {
          "output_type": "stream",
          "name": "stdout",
          "text": [
            "Successfully downloaded TRAIN_IMAGES\n",
            "Successfully downloaded TRAIN_LABELS\n",
            "Successfully downloaded TEST_IMAGES\n",
            "Successfully downloaded TEST_LABELS\n"
          ]
        }
      ]
    },
    {
      "cell_type": "code",
      "metadata": {
        "colab": {
          "base_uri": "https://localhost:8080/"
        },
        "id": "fSqX8sMzsfrP",
        "outputId": "6f46cfc0-08ae-4403-db26-09b4a8668f67"
      },
      "source": [
        "filePath_train_set = '/content/vector_fashion/train-images-idx3-ubyte.gz'\n",
        "filePath_train_label = '/content/vector_fashion/train-labels-idx1-ubyte.gz'\n",
        "\n",
        "filePath_test_set = '/content/vector_fashion/t10k-images-idx3-ubyte.gz'\n",
        "filePath_test_label = '/content/vector_fashion/t10k-labels-idx1-ubyte.gz'\n",
        "\n",
        "with gzip.open(filePath_train_label, 'rb') as trainLbpath:\n",
        "     trainLabel = np.frombuffer(trainLbpath.read(), dtype=np.uint8,\n",
        "                               offset=8)\n",
        "with gzip.open(filePath_train_set, 'rb') as trainSetpath:\n",
        "     trainSet = np.frombuffer(trainSetpath.read(), dtype=np.uint8,\n",
        "                               offset=16).reshape(len(trainLabel), 784)\n",
        "\n",
        "with gzip.open(filePath_test_label, 'rb') as testLbpath:\n",
        "     testLabel = np.frombuffer(testLbpath.read(), dtype=np.uint8,\n",
        "                               offset=8)\n",
        "\n",
        "with gzip.open(filePath_test_set, 'rb') as testSetpath:\n",
        "     testSet = np.frombuffer(testSetpath.read(), dtype=np.uint8,\n",
        "                               offset=16).reshape(len(testLabel), 784)\n",
        "\n",
        "print(type(testLabel))\n",
        "\n",
        "print(trainSet.shape)\n",
        "\n",
        "print(trainLabel.shape)\n",
        "\n",
        "print(testSet.shape)\n",
        "\n",
        "print(testLabel.shape)"
      ],
      "execution_count": 5,
      "outputs": [
        {
          "output_type": "stream",
          "name": "stdout",
          "text": [
            "<class 'numpy.ndarray'>\n",
            "(60000, 784)\n",
            "(60000,)\n",
            "(10000, 784)\n",
            "(10000,)\n"
          ]
        }
      ]
    },
    {
      "cell_type": "code",
      "metadata": {
        "colab": {
          "base_uri": "https://localhost:8080/"
        },
        "id": "WokitrztcVTw",
        "outputId": "c62e573e-5e53-4dd4-e4ec-f8902ebe1986"
      },
      "source": [
        "val_split = False \n",
        "class_weight = None\n",
        "class_labels = ['T-shirt/top', 'Trouser', 'Pullover', 'Dress', 'Coat',\n",
        "               'Sandal', 'Shirt', 'Sneaker', 'Bag', 'Ankle boot']\n",
        "\n",
        "train_x, test_x, train_y, test_y = trainSet, testSet, trainLabel, testLabel\n",
        "\n",
        "print(train_x.shape)\n",
        "print(train_y.shape)\n",
        "print(test_x.shape)\n",
        "print(test_y.shape)\n",
        "print(class_labels)\n",
        "\n",
        "train_x = train_x.reshape(60000, 28, 28, 1)/255\n",
        "test_x = test_x.reshape(10000, 28, 28, 1)/255\n",
        "\n",
        "print(\"NEW TRAIN DIM: \", train_x.shape)\n",
        "print(\"NEW TEST DIM: \", test_x.shape)"
      ],
      "execution_count": 6,
      "outputs": [
        {
          "output_type": "stream",
          "name": "stdout",
          "text": [
            "(60000, 784)\n",
            "(60000,)\n",
            "(10000, 784)\n",
            "(10000,)\n",
            "['T-shirt/top', 'Trouser', 'Pullover', 'Dress', 'Coat', 'Sandal', 'Shirt', 'Sneaker', 'Bag', 'Ankle boot']\n",
            "NEW TRAIN DIM:  (60000, 28, 28, 1)\n",
            "NEW TEST DIM:  (10000, 28, 28, 1)\n"
          ]
        }
      ]
    },
    {
      "cell_type": "code",
      "metadata": {
        "id": "eDxj5LvNou4y"
      },
      "source": [
        "'''\n",
        "\n",
        "def convert(imgf, labelf, outf, n):\n",
        "    f = open(imgf, \"rb\")\n",
        "    o = open(outf, \"w\")\n",
        "    l = open(labelf, \"rb\")\n",
        "\n",
        "    f.read(16)\n",
        "    l.read(8)\n",
        "    images = []\n",
        "\n",
        "    for i in range(n):\n",
        "        image = [ord(l.read(1))]\n",
        "        for j in range(28*28):\n",
        "            image.append(ord(f.read(1)))\n",
        "        images.append(image)\n",
        "\n",
        "    for image in images:\n",
        "        o.write(\",\".join(str(pix) for pix in image)+\"\\n\")\n",
        "    f.close()\n",
        "    o.close()\n",
        "    l.close()\n",
        "\n",
        "convert(\"/content/vector_fashion/train-images-idx3-ubyte.gz\", \"/content/vector_fashion/train-labels-idx1-ubyte.gz\",\n",
        "        \"fmnist_train.csv\", 60000)\n",
        "convert(\"/content/vector_fashion/t10k-images-idx3-ubyte.gz\", \"/content/vector_fashion/t10k-labels-idx1-ubyte.gz\",\n",
        "        \"fmnist_test.csv\", 10000)\n",
        "\n",
        "'''\n"
      ],
      "execution_count": null,
      "outputs": []
    },
    {
      "cell_type": "code",
      "metadata": {
        "colab": {
          "base_uri": "https://localhost:8080/",
          "height": 69
        },
        "id": "hJWtINug0DqG",
        "outputId": "1fcc89b3-9047-4134-9d20-7d2b8946ad2d"
      },
      "source": [
        "#preprocessing using ImageDatagenerator\n",
        "\n",
        "image_gen = ImageDataGenerator(rotation_range=0,\n",
        "                               width_shift_range=0.1,\n",
        "                               height_shift_range=0.1,\n",
        "                               shear_range=0.01,\n",
        "                               zoom_range=[0.9, 1.25],\n",
        "                               horizontal_flip=True,\n",
        "                               vertical_flip=False,\n",
        "                               fill_mode='reflect',\n",
        "                               data_format='channels_last',\n",
        "                               brightness_range=[0.5, 1.5],\n",
        "                               featurewise_center=False,\n",
        "                               samplewise_center=False,\n",
        "                               featurewise_std_normalization=False,\n",
        "                               samplewise_std_normalization=False,\n",
        "                               validation_split=0.2)\n",
        "\n",
        "#image_gen.fit(train_x)\n",
        "\n",
        "'''model.fit(datagen.flow(train_x, y_train, batch_size=32,\n",
        "         subset='training'),\n",
        "         validation_data=datagen.flow(train_x, train_y,\n",
        "         batch_size=8, subset='validation'),\n",
        "         steps_per_epoch=len(x_train) / 32, epochs=epochs)'''\n",
        "\n",
        "\n"
      ],
      "execution_count": 7,
      "outputs": [
        {
          "output_type": "execute_result",
          "data": {
            "application/vnd.google.colaboratory.intrinsic+json": {
              "type": "string"
            },
            "text/plain": [
              "\"model.fit(datagen.flow(train_x, y_train, batch_size=32,\\n         subset='training'),\\n         validation_data=datagen.flow(train_x, train_y,\\n         batch_size=8, subset='validation'),\\n         steps_per_epoch=len(x_train) / 32, epochs=epochs)\""
            ]
          },
          "metadata": {},
          "execution_count": 7
        }
      ]
    },
    {
      "cell_type": "code",
      "metadata": {
        "colab": {
          "base_uri": "https://localhost:8080/"
        },
        "id": "_q7LIDIK_I0k",
        "outputId": "d30e256a-3106-4001-bc83-ba895b9899b9"
      },
      "source": [
        "def normalize(train_x, test_x):\n",
        "#   train_x = train_x / 255\n",
        "#   test_x = test_x / 255\n",
        "  mu = np.mean(train_x, axis=0)\n",
        "  std = np.std(train_x, axis=0)\n",
        "  train = (train_x - mu) / std\n",
        "  test = (test_x - mu) / std\n",
        "  return train_x, test_x\n",
        "\n",
        "\n",
        "def expand_data(x, y, factor=2):\n",
        "  for i, (x_batch, y_batch) in enumerate(img_gen.flow(x, y, batch_size=len(x))):\n",
        "    if i >= factor - 1:\n",
        "      break\n",
        "    x, y = np.concatenate((x, x_batch)), np.concatenate((y, y_batch))\n",
        "  return x, y\n",
        "\n",
        "def get_class_weight(y):\n",
        "  class_freq = Counter(y)\n",
        "  return {label: math.log(len(y) / class_freq[label]) for label in range(len(class_labels))}\n",
        "\n",
        "\n",
        "def even_out_dist(x, y, max_freq=None):\n",
        "  class_freq = Counter(y)\n",
        "  if max_freq is None:\n",
        "    max_freq = max(class_freq.values())\n",
        "  class_data = [[] for i in range(len(class_labels))]\n",
        "  for i, label in enumerate(y):\n",
        "    class_data[label].append(x[i])\n",
        "  for c in range(len(class_labels)):\n",
        "    if max_freq < class_freq[c]:\n",
        "      raise ValueError(\"max_freq must be greater than any class frequency\")\n",
        "    print('Expanding class {} from {} to {}'.format(c, class_freq[c], max_freq))\n",
        "    num = len(class_data[c])\n",
        "    for x_batch in image_gen.flow(np.array(class_data[c]), batch_size=class_freq[c], shuffle=True):\n",
        "      num += len(x_batch)\n",
        "      if num >= max_freq:\n",
        "        if num - len(x_batch) < max_freq:\n",
        "          x = np.concatenate((x, x_batch[:max_freq - (num - len(x_batch))]))\n",
        "          y = np.append(y, [c]*(max_freq - (num - len(x_batch))))\n",
        "        break\n",
        "      x, y = np.concatenate((x, x_batch)), np.append(y, [c]*len(x_batch))\n",
        "  return x, y\n",
        "\n",
        "\n",
        "if val_split:\n",
        "  train_x, val_x, train_y, val_y = train_test_split(train_x, train_y, test_size=0.2, random_state=0)\n",
        "class_weight = get_class_weight(train_y)\n",
        "print('class weight:')\n",
        "\n",
        "\n",
        "train_x, train_y = even_out_dist(train_x, train_y, max_freq=40000)\n",
        "# train_x, train_y = expand_data(train_x, train_y, factor=2)\n",
        "print('training data size:', train_x.shape[0])\n",
        "if val_split:\n",
        "  print('validation data size:', val_x.shape[0])\n"
      ],
      "execution_count": 8,
      "outputs": [
        {
          "output_type": "stream",
          "name": "stdout",
          "text": [
            "class weight:\n",
            "Expanding class 0 from 6000 to 40000\n",
            "Expanding class 1 from 6000 to 40000\n",
            "Expanding class 2 from 6000 to 40000\n",
            "Expanding class 3 from 6000 to 40000\n",
            "Expanding class 4 from 6000 to 40000\n",
            "Expanding class 5 from 6000 to 40000\n",
            "Expanding class 6 from 6000 to 40000\n",
            "Expanding class 7 from 6000 to 40000\n",
            "Expanding class 8 from 6000 to 40000\n",
            "Expanding class 9 from 6000 to 40000\n",
            "training data size: 400000\n"
          ]
        }
      ]
    },
    {
      "cell_type": "code",
      "metadata": {
        "colab": {
          "base_uri": "https://localhost:8080/",
          "height": 1000
        },
        "id": "_Ho_pBECC8R8",
        "outputId": "f64195fd-71b3-4f5c-8b1a-dd4b5c1c208a"
      },
      "source": [
        "fig, axes = plt.subplots(3, 3, figsize=(12, 13))\n",
        "for row in axes:\n",
        "  for axis in row:\n",
        "    rand_idx = random.randrange(len(train_x))\n",
        "    axis.set_xlabel(class_labels[train_y[rand_idx]], fontsize=15)\n",
        "    axis.imshow(train_x[rand_idx].reshape(28, 28), cmap='gray')\n",
        "\n",
        "fig = plt.figure()\n",
        "fig.set_size_inches(10, 6)\n",
        "plt.hist(train_y, bins=np.arange(11) - 0.5, facecolor='red', edgecolor='black')\n",
        "plt.xticks(np.arange(10), [class_labels[i] for i in range(10)])\n",
        "plt.ylabel('Count')\n",
        "plt.title(\"Training data distribution\")\n",
        "plt.show()"
      ],
      "execution_count": 9,
      "outputs": [
        {
          "output_type": "display_data",
          "data": {
            "image/png": "[encoded data removed]",
            "text/plain": [
              "<Figure size 864x936 with 9 Axes>"
            ]
          },
          "metadata": {
            "needs_background": "light"
          }
        },
        {
          "output_type": "display_data",
          "data": {
            "image/png": "[encoded data removed]",
            "text/plain": [
              "<Figure size 720x432 with 1 Axes>"
            ]
          },
          "metadata": {
            "needs_background": "light"
          }
        }
      ]
    },
    {
      "cell_type": "code",
      "metadata": {
        "id": "KdB9pxm1-L6K"
      },
      "source": [
        "train_y = tf.keras.utils.to_categorical(train_y, num_classes=len(class_labels))\n",
        "if val_split:\n",
        "  val_y = tf.keras.utils.to_categorical(val_y, num_classes=len(class_labels))"
      ],
      "execution_count": 10,
      "outputs": []
    },
    {
      "cell_type": "code",
      "metadata": {
        "colab": {
          "base_uri": "https://localhost:8080/"
        },
        "id": "vRyZIHYY-Na_",
        "outputId": "c568e9da-5d88-42e3-9ceb-8c8e9ef3f401"
      },
      "source": [
        "save_dir = os.path.join(os.getcwd(), 'saved_models')\n",
        "if not os.path.isdir(save_dir):\n",
        "  os.makedirs(save_dir)\n",
        "model_name = 'vec-fmnist_cnn.h5'\n",
        "model_path = os.path.join(save_dir, model_name)\n",
        "\n",
        "model = Sequential()\n",
        "\n",
        "model.add(BatchNormalization(input_shape=train_x.shape[1:]))\n",
        "model.add(Conv2D(128, (5, 5), padding='same', kernel_regularizer=None, input_shape=(1,28,28)))\n",
        "model.add(Activation('relu'))\n",
        "model.add(BatchNormalization())\n",
        "model.add(Conv2D(128, (5, 5), padding='same', kernel_regularizer=None))\n",
        "model.add(Activation('relu'))\n",
        "model.add(MaxPool2D((2,2)))\n",
        "model.add(Dropout(0.25))\n",
        "\n",
        "model.add(BatchNormalization())\n",
        "model.add(Conv2D(256, (3, 3), padding='same', kernel_regularizer=None))\n",
        "model.add(Activation('relu'))\n",
        "model.add(BatchNormalization())\n",
        "model.add(Conv2D(256, (3, 3), padding='same', kernel_regularizer=None))\n",
        "model.add(Activation('relu'))\n",
        "model.add(MaxPool2D((2,2)))\n",
        "model.add(Dropout(0.25))\n",
        "\n",
        "model.add(Flatten())\n",
        "model.add(BatchNormalization())\n",
        "model.add(Dense(512, kernel_regularizer=None))\n",
        "model.add(Activation('relu'))\n",
        "model.add(Dropout(0.5))\n",
        "\n",
        "model.add(BatchNormalization())\n",
        "model.add(Dense(512, kernel_regularizer=None))\n",
        "model.add(Activation('relu'))\n",
        "model.add(Dropout(0.5))\n",
        "\n",
        "model.add(Dense(10))\n",
        "model.add(Activation('softmax'))\n",
        "\n",
        "model.compile(loss='categorical_crossentropy', optimizer=Adam(lr=0.001, beta_1=0.99, beta_2=0.9999, decay=1e-8),\n",
        "              metrics=['accuracy'])\n",
        "\n",
        "model.summary()\n",
        "\n"
      ],
      "execution_count": 11,
      "outputs": [
        {
          "output_type": "stream",
          "name": "stdout",
          "text": [
            "Model: \"sequential\"\n",
            "_________________________________________________________________\n",
            " Layer (type)                Output Shape              Param #   \n",
            "=================================================================\n",
            " batch_normalization (BatchN  (None, 28, 28, 1)        4         \n",
            " ormalization)                                                   \n",
            "                                                                 \n",
            " conv2d (Conv2D)             (None, 28, 28, 128)       3328      \n",
            "                                                                 \n",
            " activation (Activation)     (None, 28, 28, 128)       0         \n",
            "                                                                 \n",
            " batch_normalization_1 (Batc  (None, 28, 28, 128)      512       \n",
            " hNormalization)                                                 \n",
            "                                                                 \n",
            " conv2d_1 (Conv2D)           (None, 28, 28, 128)       409728    \n",
            "                                                                 \n",
            " activation_1 (Activation)   (None, 28, 28, 128)       0         \n",
            "                                                                 \n",
            " max_pooling2d (MaxPooling2D  (None, 14, 14, 128)      0         \n",
            " )                                                               \n",
            "                                                                 \n",
            " dropout (Dropout)           (None, 14, 14, 128)       0         \n",
            "                                                                 \n",
            " batch_normalization_2 (Batc  (None, 14, 14, 128)      512       \n",
            " hNormalization)                                                 \n",
            "                                                                 \n",
            " conv2d_2 (Conv2D)           (None, 14, 14, 256)       295168    \n",
            "                                                                 \n",
            " activation_2 (Activation)   (None, 14, 14, 256)       0         \n",
            "                                                                 \n",
            " batch_normalization_3 (Batc  (None, 14, 14, 256)      1024      \n",
            " hNormalization)                                                 \n",
            "                                                                 \n",
            " conv2d_3 (Conv2D)           (None, 14, 14, 256)       590080    \n",
            "                                                                 \n",
            " activation_3 (Activation)   (None, 14, 14, 256)       0         \n",
            "                                                                 \n",
            " max_pooling2d_1 (MaxPooling  (None, 7, 7, 256)        0         \n",
            " 2D)                                                             \n",
            "                                                                 \n",
            " dropout_1 (Dropout)         (None, 7, 7, 256)         0         \n",
            "                                                                 \n",
            " flatten (Flatten)           (None, 12544)             0         \n",
            "                                                                 \n",
            " batch_normalization_4 (Batc  (None, 12544)            50176     \n",
            " hNormalization)                                                 \n",
            "                                                                 \n",
            " dense (Dense)               (None, 512)               6423040   \n",
            "                                                                 \n",
            " activation_4 (Activation)   (None, 512)               0         \n",
            "                                                                 \n",
            " dropout_2 (Dropout)         (None, 512)               0         \n",
            "                                                                 \n",
            " batch_normalization_5 (Batc  (None, 512)              2048      \n",
            " hNormalization)                                                 \n",
            "                                                                 \n",
            " dense_1 (Dense)             (None, 512)               262656    \n",
            "                                                                 \n",
            " activation_5 (Activation)   (None, 512)               0         \n",
            "                                                                 \n",
            " dropout_3 (Dropout)         (None, 512)               0         \n",
            "                                                                 \n",
            " dense_2 (Dense)             (None, 10)                5130      \n",
            "                                                                 \n",
            " activation_6 (Activation)   (None, 10)                0         \n",
            "                                                                 \n",
            "=================================================================\n",
            "Total params: 8,043,406\n",
            "Trainable params: 8,016,268\n",
            "Non-trainable params: 27,138\n",
            "_________________________________________________________________\n"
          ]
        },
        {
          "output_type": "stream",
          "name": "stderr",
          "text": [
            "/usr/local/lib/python3.7/dist-packages/keras/optimizer_v2/adam.py:105: UserWarning: The `lr` argument is deprecated, use `learning_rate` instead.\n",
            "  super(Adam, self).__init__(name, **kwargs)\n"
          ]
        }
      ]
    },
    {
      "cell_type": "code",
      "metadata": {
        "colab": {
          "base_uri": "https://localhost:8080/"
        },
        "id": "WWPpuV7HHc68",
        "outputId": "e515ef55-3891-4356-e64d-eecb41aa7c7b"
      },
      "source": [
        "cb = [ReduceLROnPlateau(monitor='acc', patience=2, verbose=1, factor=0.5, min_lr=0.00001)]\n",
        "\n",
        "val_cb = [\n",
        "    ReduceLROnPlateau(monitor='val_acc', patience=5, verbose=1, factor=0.5, min_lr=0.00001),\n",
        "    # EarlyStopping(monitor='val_acc', patience=10, verbose=1, restore_best_weights=True),\n",
        "    ModelCheckpoint(model_path, monitor='val_acc', verbose=1, save_best_only=True),\n",
        "]\n",
        "\n",
        "if val_split:\n",
        "  hist = model.fit(train_x, train_y, batch_size=128*8, epochs=100, class_weight=class_weight, validation_data=(val_x, val_y), callbacks=val_cb, verbose=1)\n",
        "  scores = model.evaluate(val_x, val_y)\n",
        "  print('loss:', scores[0])\n",
        "  print('accuracy:', scores[1])\n",
        "else:\n",
        "  hist = model.fit(train_x, train_y, batch_size=128*8, epochs=100, class_weight=class_weight, callbacks=cb, verbose=1)"
      ],
      "execution_count": null,
      "outputs": [
        {
          "output_type": "stream",
          "name": "stdout",
          "text": [
            "Epoch 1/100\n",
            "391/391 [==============================] - ETA: 0s - loss: 1.8206 - accuracy: 0.7044WARNING:tensorflow:Learning rate reduction is conditioned on metric `acc` which is not available. Available metrics are: loss,accuracy,lr\n",
            "391/391 [==============================] - 282s 614ms/step - loss: 1.8206 - accuracy: 0.7044 - lr: 0.0010\n",
            "Epoch 2/100\n",
            "391/391 [==============================] - ETA: 0s - loss: 1.1260 - accuracy: 0.8149WARNING:tensorflow:Learning rate reduction is conditioned on metric `acc` which is not available. Available metrics are: loss,accuracy,lr\n",
            "391/391 [==============================] - 234s 599ms/step - loss: 1.1260 - accuracy: 0.8149 - lr: 0.0010\n",
            "Epoch 3/100\n",
            "391/391 [==============================] - ETA: 0s - loss: 0.9233 - accuracy: 0.8476WARNING:tensorflow:Learning rate reduction is conditioned on metric `acc` which is not available. Available metrics are: loss,accuracy,lr\n",
            "391/391 [==============================] - 233s 596ms/step - loss: 0.9233 - accuracy: 0.8476 - lr: 0.0010\n",
            "Epoch 4/100\n",
            "391/391 [==============================] - ETA: 0s - loss: 0.8174 - accuracy: 0.8656WARNING:tensorflow:Learning rate reduction is conditioned on metric `acc` which is not available. Available metrics are: loss,accuracy,lr\n",
            "391/391 [==============================] - 233s 595ms/step - loss: 0.8174 - accuracy: 0.8656 - lr: 0.0010\n",
            "Epoch 5/100\n",
            "391/391 [==============================] - ETA: 0s - loss: 0.7253 - accuracy: 0.8814WARNING:tensorflow:Learning rate reduction is conditioned on metric `acc` which is not available. Available metrics are: loss,accuracy,lr\n",
            "391/391 [==============================] - 233s 597ms/step - loss: 0.7253 - accuracy: 0.8814 - lr: 0.0010\n",
            "Epoch 6/100\n",
            "391/391 [==============================] - ETA: 0s - loss: 0.6589 - accuracy: 0.8926WARNING:tensorflow:Learning rate reduction is conditioned on metric `acc` which is not available. Available metrics are: loss,accuracy,lr\n",
            "391/391 [==============================] - 233s 596ms/step - loss: 0.6589 - accuracy: 0.8926 - lr: 0.0010\n",
            "Epoch 7/100\n",
            "391/391 [==============================] - ETA: 0s - loss: 0.6179 - accuracy: 0.8994WARNING:tensorflow:Learning rate reduction is conditioned on metric `acc` which is not available. Available metrics are: loss,accuracy,lr\n",
            "391/391 [==============================] - 233s 596ms/step - loss: 0.6179 - accuracy: 0.8994 - lr: 0.0010\n",
            "Epoch 8/100\n",
            "391/391 [==============================] - ETA: 0s - loss: 0.6248 - accuracy: 0.8977WARNING:tensorflow:Learning rate reduction is conditioned on metric `acc` which is not available. Available metrics are: loss,accuracy,lr\n",
            "391/391 [==============================] - 233s 595ms/step - loss: 0.6248 - accuracy: 0.8977 - lr: 0.0010\n",
            "Epoch 9/100\n",
            "391/391 [==============================] - ETA: 0s - loss: 0.5685 - accuracy: 0.9068WARNING:tensorflow:Learning rate reduction is conditioned on metric `acc` which is not available. Available metrics are: loss,accuracy,lr\n",
            "391/391 [==============================] - 233s 596ms/step - loss: 0.5685 - accuracy: 0.9068 - lr: 0.0010\n",
            "Epoch 10/100\n",
            "391/391 [==============================] - ETA: 0s - loss: 0.5116 - accuracy: 0.9160WARNING:tensorflow:Learning rate reduction is conditioned on metric `acc` which is not available. Available metrics are: loss,accuracy,lr\n",
            "391/391 [==============================] - 233s 596ms/step - loss: 0.5116 - accuracy: 0.9160 - lr: 0.0010\n",
            "Epoch 11/100\n",
            "391/391 [==============================] - ETA: 0s - loss: 0.4839 - accuracy: 0.9212WARNING:tensorflow:Learning rate reduction is conditioned on metric `acc` which is not available. Available metrics are: loss,accuracy,lr\n",
            "391/391 [==============================] - 233s 595ms/step - loss: 0.4839 - accuracy: 0.9212 - lr: 0.0010\n",
            "Epoch 12/100\n",
            "391/391 [==============================] - ETA: 0s - loss: 0.4504 - accuracy: 0.9267WARNING:tensorflow:Learning rate reduction is conditioned on metric `acc` which is not available. Available metrics are: loss,accuracy,lr\n",
            "391/391 [==============================] - 233s 595ms/step - loss: 0.4504 - accuracy: 0.9267 - lr: 0.0010\n",
            "Epoch 13/100\n",
            "391/391 [==============================] - ETA: 0s - loss: 0.4323 - accuracy: 0.9296WARNING:tensorflow:Learning rate reduction is conditioned on metric `acc` which is not available. Available metrics are: loss,accuracy,lr\n",
            "391/391 [==============================] - 233s 596ms/step - loss: 0.4323 - accuracy: 0.9296 - lr: 0.0010\n",
            "Epoch 14/100\n",
            "391/391 [==============================] - ETA: 0s - loss: 0.3980 - accuracy: 0.9347WARNING:tensorflow:Learning rate reduction is conditioned on metric `acc` which is not available. Available metrics are: loss,accuracy,lr\n",
            "391/391 [==============================] - 233s 595ms/step - loss: 0.3980 - accuracy: 0.9347 - lr: 0.0010\n",
            "Epoch 15/100\n",
            "391/391 [==============================] - ETA: 0s - loss: 0.3807 - accuracy: 0.9376WARNING:tensorflow:Learning rate reduction is conditioned on metric `acc` which is not available. Available metrics are: loss,accuracy,lr\n",
            "391/391 [==============================] - 233s 595ms/step - loss: 0.3807 - accuracy: 0.9376 - lr: 0.0010\n",
            "Epoch 16/100\n",
            "391/391 [==============================] - ETA: 0s - loss: 0.3679 - accuracy: 0.9397WARNING:tensorflow:Learning rate reduction is conditioned on metric `acc` which is not available. Available metrics are: loss,accuracy,lr\n",
            "391/391 [==============================] - 232s 594ms/step - loss: 0.3679 - accuracy: 0.9397 - lr: 0.0010\n",
            "Epoch 17/100\n",
            "391/391 [==============================] - ETA: 0s - loss: 0.3429 - accuracy: 0.9439WARNING:tensorflow:Learning rate reduction is conditioned on metric `acc` which is not available. Available metrics are: loss,accuracy,lr\n",
            "391/391 [==============================] - 235s 602ms/step - loss: 0.3429 - accuracy: 0.9439 - lr: 0.0010\n",
            "Epoch 18/100\n",
            "391/391 [==============================] - ETA: 0s - loss: 0.3330 - accuracy: 0.9456WARNING:tensorflow:Learning rate reduction is conditioned on metric `acc` which is not available. Available metrics are: loss,accuracy,lr\n",
            "391/391 [==============================] - 235s 602ms/step - loss: 0.3330 - accuracy: 0.9456 - lr: 0.0010\n",
            "Epoch 19/100\n",
            "391/391 [==============================] - ETA: 0s - loss: 0.3193 - accuracy: 0.9477WARNING:tensorflow:Learning rate reduction is conditioned on metric `acc` which is not available. Available metrics are: loss,accuracy,lr\n",
            "391/391 [==============================] - 235s 602ms/step - loss: 0.3193 - accuracy: 0.9477 - lr: 0.0010\n",
            "Epoch 20/100\n",
            "391/391 [==============================] - ETA: 0s - loss: 0.3101 - accuracy: 0.9492WARNING:tensorflow:Learning rate reduction is conditioned on metric `acc` which is not available. Available metrics are: loss,accuracy,lr\n",
            "391/391 [==============================] - 235s 602ms/step - loss: 0.3101 - accuracy: 0.9492 - lr: 0.0010\n",
            "Epoch 21/100\n",
            "391/391 [==============================] - ETA: 0s - loss: 0.2971 - accuracy: 0.9515WARNING:tensorflow:Learning rate reduction is conditioned on metric `acc` which is not available. Available metrics are: loss,accuracy,lr\n",
            "391/391 [==============================] - 235s 602ms/step - loss: 0.2971 - accuracy: 0.9515 - lr: 0.0010\n",
            "Epoch 22/100\n",
            "391/391 [==============================] - ETA: 0s - loss: 0.2850 - accuracy: 0.9534WARNING:tensorflow:Learning rate reduction is conditioned on metric `acc` which is not available. Available metrics are: loss,accuracy,lr\n",
            "391/391 [==============================] - 235s 602ms/step - loss: 0.2850 - accuracy: 0.9534 - lr: 0.0010\n",
            "Epoch 23/100\n",
            "391/391 [==============================] - ETA: 0s - loss: 0.2722 - accuracy: 0.9554WARNING:tensorflow:Learning rate reduction is conditioned on metric `acc` which is not available. Available metrics are: loss,accuracy,lr\n",
            "391/391 [==============================] - 235s 602ms/step - loss: 0.2722 - accuracy: 0.9554 - lr: 0.0010\n",
            "Epoch 24/100\n",
            "391/391 [==============================] - ETA: 0s - loss: 0.2630 - accuracy: 0.9574WARNING:tensorflow:Learning rate reduction is conditioned on metric `acc` which is not available. Available metrics are: loss,accuracy,lr\n",
            "391/391 [==============================] - 235s 602ms/step - loss: 0.2630 - accuracy: 0.9574 - lr: 0.0010\n",
            "Epoch 25/100\n",
            "391/391 [==============================] - ETA: 0s - loss: 0.2526 - accuracy: 0.9589WARNING:tensorflow:Learning rate reduction is conditioned on metric `acc` which is not available. Available metrics are: loss,accuracy,lr\n",
            "391/391 [==============================] - 235s 602ms/step - loss: 0.2526 - accuracy: 0.9589 - lr: 0.0010\n",
            "Epoch 26/100\n",
            "391/391 [==============================] - ETA: 0s - loss: 0.2407 - accuracy: 0.9606WARNING:tensorflow:Learning rate reduction is conditioned on metric `acc` which is not available. Available metrics are: loss,accuracy,lr\n",
            "391/391 [==============================] - 235s 602ms/step - loss: 0.2407 - accuracy: 0.9606 - lr: 0.0010\n",
            "Epoch 27/100\n",
            "391/391 [==============================] - ETA: 0s - loss: 0.2381 - accuracy: 0.9616WARNING:tensorflow:Learning rate reduction is conditioned on metric `acc` which is not available. Available metrics are: loss,accuracy,lr\n",
            "391/391 [==============================] - 235s 602ms/step - loss: 0.2381 - accuracy: 0.9616 - lr: 0.0010\n",
            "Epoch 28/100\n",
            "391/391 [==============================] - ETA: 0s - loss: 0.2309 - accuracy: 0.9626WARNING:tensorflow:Learning rate reduction is conditioned on metric `acc` which is not available. Available metrics are: loss,accuracy,lr\n",
            "391/391 [==============================] - 235s 602ms/step - loss: 0.2309 - accuracy: 0.9626 - lr: 0.0010\n",
            "Epoch 29/100\n",
            "391/391 [==============================] - ETA: 0s - loss: 0.2191 - accuracy: 0.9645WARNING:tensorflow:Learning rate reduction is conditioned on metric `acc` which is not available. Available metrics are: loss,accuracy,lr\n",
            "391/391 [==============================] - 235s 602ms/step - loss: 0.2191 - accuracy: 0.9645 - lr: 0.0010\n",
            "Epoch 30/100\n",
            "391/391 [==============================] - ETA: 0s - loss: 0.2170 - accuracy: 0.9647WARNING:tensorflow:Learning rate reduction is conditioned on metric `acc` which is not available. Available metrics are: loss,accuracy,lr\n",
            "391/391 [==============================] - 235s 602ms/step - loss: 0.2170 - accuracy: 0.9647 - lr: 0.0010\n",
            "Epoch 31/100\n",
            "391/391 [==============================] - ETA: 0s - loss: 0.2134 - accuracy: 0.9653WARNING:tensorflow:Learning rate reduction is conditioned on metric `acc` which is not available. Available metrics are: loss,accuracy,lr\n",
            "391/391 [==============================] - 235s 602ms/step - loss: 0.2134 - accuracy: 0.9653 - lr: 0.0010\n",
            "Epoch 32/100\n",
            "391/391 [==============================] - ETA: 0s - loss: 0.2010 - accuracy: 0.9677WARNING:tensorflow:Learning rate reduction is conditioned on metric `acc` which is not available. Available metrics are: loss,accuracy,lr\n",
            "391/391 [==============================] - 235s 602ms/step - loss: 0.2010 - accuracy: 0.9677 - lr: 0.0010\n",
            "Epoch 33/100\n",
            "391/391 [==============================] - ETA: 0s - loss: 0.1969 - accuracy: 0.9683WARNING:tensorflow:Learning rate reduction is conditioned on metric `acc` which is not available. Available metrics are: loss,accuracy,lr\n",
            "391/391 [==============================] - 235s 602ms/step - loss: 0.1969 - accuracy: 0.9683 - lr: 0.0010\n",
            "Epoch 34/100\n",
            "391/391 [==============================] - ETA: 0s - loss: 0.1929 - accuracy: 0.9687WARNING:tensorflow:Learning rate reduction is conditioned on metric `acc` which is not available. Available metrics are: loss,accuracy,lr\n",
            "391/391 [==============================] - 235s 602ms/step - loss: 0.1929 - accuracy: 0.9687 - lr: 0.0010\n",
            "Epoch 35/100\n",
            "391/391 [==============================] - ETA: 0s - loss: 0.1859 - accuracy: 0.9698WARNING:tensorflow:Learning rate reduction is conditioned on metric `acc` which is not available. Available metrics are: loss,accuracy,lr\n",
            "391/391 [==============================] - 235s 602ms/step - loss: 0.1859 - accuracy: 0.9698 - lr: 0.0010\n",
            "Epoch 36/100\n",
            "391/391 [==============================] - ETA: 0s - loss: 0.1810 - accuracy: 0.9706WARNING:tensorflow:Learning rate reduction is conditioned on metric `acc` which is not available. Available metrics are: loss,accuracy,lr\n",
            "391/391 [==============================] - 235s 602ms/step - loss: 0.1810 - accuracy: 0.9706 - lr: 0.0010\n",
            "Epoch 37/100\n",
            "391/391 [==============================] - ETA: 0s - loss: 0.1795 - accuracy: 0.9713WARNING:tensorflow:Learning rate reduction is conditioned on metric `acc` which is not available. Available metrics are: loss,accuracy,lr\n",
            "391/391 [==============================] - 235s 602ms/step - loss: 0.1795 - accuracy: 0.9713 - lr: 0.0010\n",
            "Epoch 38/100\n",
            "391/391 [==============================] - ETA: 0s - loss: 0.1744 - accuracy: 0.9718WARNING:tensorflow:Learning rate reduction is conditioned on metric `acc` which is not available. Available metrics are: loss,accuracy,lr\n",
            "391/391 [==============================] - 235s 602ms/step - loss: 0.1744 - accuracy: 0.9718 - lr: 0.0010\n",
            "Epoch 39/100\n",
            "391/391 [==============================] - ETA: 0s - loss: 0.1723 - accuracy: 0.9724WARNING:tensorflow:Learning rate reduction is conditioned on metric `acc` which is not available. Available metrics are: loss,accuracy,lr\n",
            "391/391 [==============================] - 235s 602ms/step - loss: 0.1723 - accuracy: 0.9724 - lr: 0.0010\n",
            "Epoch 40/100\n",
            "391/391 [==============================] - ETA: 0s - loss: 0.1654 - accuracy: 0.9732WARNING:tensorflow:Learning rate reduction is conditioned on metric `acc` which is not available. Available metrics are: loss,accuracy,lr\n",
            "391/391 [==============================] - 235s 602ms/step - loss: 0.1654 - accuracy: 0.9732 - lr: 0.0010\n",
            "Epoch 41/100\n",
            "391/391 [==============================] - ETA: 0s - loss: 0.1628 - accuracy: 0.9738WARNING:tensorflow:Learning rate reduction is conditioned on metric `acc` which is not available. Available metrics are: loss,accuracy,lr\n",
            "391/391 [==============================] - 235s 602ms/step - loss: 0.1628 - accuracy: 0.9738 - lr: 0.0010\n",
            "Epoch 42/100\n",
            "391/391 [==============================] - ETA: 0s - loss: 0.1606 - accuracy: 0.9742WARNING:tensorflow:Learning rate reduction is conditioned on metric `acc` which is not available. Available metrics are: loss,accuracy,lr\n",
            "391/391 [==============================] - 235s 602ms/step - loss: 0.1606 - accuracy: 0.9742 - lr: 0.0010\n",
            "Epoch 43/100\n",
            "391/391 [==============================] - ETA: 0s - loss: 0.1600 - accuracy: 0.9739WARNING:tensorflow:Learning rate reduction is conditioned on metric `acc` which is not available. Available metrics are: loss,accuracy,lr\n",
            "391/391 [==============================] - 235s 602ms/step - loss: 0.1600 - accuracy: 0.9739 - lr: 0.0010\n",
            "Epoch 44/100\n",
            "391/391 [==============================] - ETA: 0s - loss: 0.1529 - accuracy: 0.9755WARNING:tensorflow:Learning rate reduction is conditioned on metric `acc` which is not available. Available metrics are: loss,accuracy,lr\n",
            "391/391 [==============================] - 235s 600ms/step - loss: 0.1529 - accuracy: 0.9755 - lr: 0.0010\n",
            "Epoch 45/100\n",
            "391/391 [==============================] - ETA: 0s - loss: 0.1478 - accuracy: 0.9764WARNING:tensorflow:Learning rate reduction is conditioned on metric `acc` which is not available. Available metrics are: loss,accuracy,lr\n",
            "391/391 [==============================] - 234s 598ms/step - loss: 0.1478 - accuracy: 0.9764 - lr: 0.0010\n",
            "Epoch 46/100\n",
            "391/391 [==============================] - ETA: 0s - loss: 0.1490 - accuracy: 0.9759WARNING:tensorflow:Learning rate reduction is conditioned on metric `acc` which is not available. Available metrics are: loss,accuracy,lr\n",
            "391/391 [==============================] - 234s 598ms/step - loss: 0.1490 - accuracy: 0.9759 - lr: 0.0010\n",
            "Epoch 47/100\n",
            "391/391 [==============================] - ETA: 0s - loss: 0.1494 - accuracy: 0.9761WARNING:tensorflow:Learning rate reduction is conditioned on metric `acc` which is not available. Available metrics are: loss,accuracy,lr\n",
            "391/391 [==============================] - 234s 598ms/step - loss: 0.1494 - accuracy: 0.9761 - lr: 0.0010\n",
            "Epoch 48/100\n",
            "391/391 [==============================] - ETA: 0s - loss: 0.1398 - accuracy: 0.9774WARNING:tensorflow:Learning rate reduction is conditioned on metric `acc` which is not available. Available metrics are: loss,accuracy,lr\n",
            "391/391 [==============================] - 234s 598ms/step - loss: 0.1398 - accuracy: 0.9774 - lr: 0.0010\n",
            "Epoch 49/100\n",
            "391/391 [==============================] - ETA: 0s - loss: 0.1392 - accuracy: 0.9775WARNING:tensorflow:Learning rate reduction is conditioned on metric `acc` which is not available. Available metrics are: loss,accuracy,lr\n",
            "391/391 [==============================] - 234s 600ms/step - loss: 0.1392 - accuracy: 0.9775 - lr: 0.0010\n",
            "Epoch 50/100\n",
            "391/391 [==============================] - ETA: 0s - loss: 0.1323 - accuracy: 0.9788WARNING:tensorflow:Learning rate reduction is conditioned on metric `acc` which is not available. Available metrics are: loss,accuracy,lr\n",
            "391/391 [==============================] - 235s 600ms/step - loss: 0.1323 - accuracy: 0.9788 - lr: 0.0010\n",
            "Epoch 51/100\n",
            "391/391 [==============================] - ETA: 0s - loss: 0.1343 - accuracy: 0.9783WARNING:tensorflow:Learning rate reduction is conditioned on metric `acc` which is not available. Available metrics are: loss,accuracy,lr\n",
            "391/391 [==============================] - 235s 601ms/step - loss: 0.1343 - accuracy: 0.9783 - lr: 0.0010\n",
            "Epoch 52/100\n",
            "391/391 [==============================] - ETA: 0s - loss: 0.1294 - accuracy: 0.9792WARNING:tensorflow:Learning rate reduction is conditioned on metric `acc` which is not available. Available metrics are: loss,accuracy,lr\n",
            "391/391 [==============================] - 235s 602ms/step - loss: 0.1294 - accuracy: 0.9792 - lr: 0.0010\n",
            "Epoch 53/100\n",
            "391/391 [==============================] - ETA: 0s - loss: 0.1291 - accuracy: 0.9792WARNING:tensorflow:Learning rate reduction is conditioned on metric `acc` which is not available. Available metrics are: loss,accuracy,lr\n",
            "391/391 [==============================] - 235s 602ms/step - loss: 0.1291 - accuracy: 0.9792 - lr: 0.0010\n",
            "Epoch 54/100\n",
            "391/391 [==============================] - ETA: 0s - loss: 0.1295 - accuracy: 0.9794WARNING:tensorflow:Learning rate reduction is conditioned on metric `acc` which is not available. Available metrics are: loss,accuracy,lr\n",
            "391/391 [==============================] - 235s 602ms/step - loss: 0.1295 - accuracy: 0.9794 - lr: 0.0010\n",
            "Epoch 55/100\n",
            "391/391 [==============================] - ETA: 0s - loss: 0.1236 - accuracy: 0.9802WARNING:tensorflow:Learning rate reduction is conditioned on metric `acc` which is not available. Available metrics are: loss,accuracy,lr\n",
            "391/391 [==============================] - 235s 602ms/step - loss: 0.1236 - accuracy: 0.9802 - lr: 0.0010\n",
            "Epoch 56/100\n",
            "391/391 [==============================] - ETA: 0s - loss: 0.1247 - accuracy: 0.9801WARNING:tensorflow:Learning rate reduction is conditioned on metric `acc` which is not available. Available metrics are: loss,accuracy,lr\n",
            "391/391 [==============================] - 235s 602ms/step - loss: 0.1247 - accuracy: 0.9801 - lr: 0.0010\n",
            "Epoch 57/100\n",
            "391/391 [==============================] - ETA: 0s - loss: 0.1183 - accuracy: 0.9812WARNING:tensorflow:Learning rate reduction is conditioned on metric `acc` which is not available. Available metrics are: loss,accuracy,lr\n",
            "391/391 [==============================] - 235s 602ms/step - loss: 0.1183 - accuracy: 0.9812 - lr: 0.0010\n",
            "Epoch 58/100\n",
            " 71/391 [====>.........................] - ETA: 3:12 - loss: 0.1126 - accuracy: 0.9817"
          ]
        }
      ]
    },
    {
      "cell_type": "code",
      "metadata": {
        "id": "GDgt3nBjSRVq"
      },
      "source": [
        "legend = ['Train']\n",
        "plt.plot(hist.history['acc'])\n",
        "if val_split:\n",
        "  plt.plot(hist.history['val_acc'])\n",
        "  legend.append('Validation')\n",
        "plt.title('Model Accuracy')\n",
        "plt.xlabel('Epochs')\n",
        "plt.ylabel('Accuracy')\n",
        "plt.legend(legend, loc='upper left')\n",
        "plt.show()\n",
        "\n",
        "legend = ['Train']\n",
        "plt.plot(hist.history['loss'])\n",
        "if val_split:\n",
        "  plt.plot(hist.history['val_loss'])\n",
        "  legend.append('Validation')\n",
        "plt.title('Model Loss')\n",
        "plt.xlabel('Epochs')\n",
        "plt.ylabel('Loss')\n",
        "plt.legend(legend, loc='upper right')\n",
        "plt.show()"
      ],
      "execution_count": null,
      "outputs": []
    },
    {
      "cell_type": "code",
      "metadata": {
        "id": "i3_89VREixrK"
      },
      "source": [
        "def load_sample_images(size):\n",
        "  imgs = [cv2.imread(test_x, str(random.randrange(10000)) + '.png'), 0).reshape(28, 28, 1) for i in range(size)]\n",
        "  return np.array(imgs, dtype='float32')\n",
        "\n",
        "samples = load_sample_images(16)\n",
        "out_layers = model.predict(samples, batch_size=8, verbose=1)\n",
        "predictions = [np.argmax(layer) for layer in out_layers]\n",
        "\n",
        "fig, axes = plt.subplots(4, 4, figsize=(16, 17))\n",
        "i = 0\n",
        "for row in axes:\n",
        "  for axis in row:\n",
        "    axis.set_xlabel('prediction: ' + classes[predictions[i]], fontsize=12)\n",
        "    axis.imshow(samples[i].reshape(28, 28), cmap='gray')\n",
        "    i += 1\n",
        "\n",
        "predictions = model.predict(test_x)\n",
        "print(predictions.shape)"
      ],
      "execution_count": null,
      "outputs": []
    },
    {
      "cell_type": "code",
      "metadata": {
        "id": "LIXvID4VzCEG"
      },
      "source": [
        "predictions1D = np.zeros(10000,dtype=np.int16)\n",
        "for row_i in range(len(predictions)):\n",
        "    predictions1D[row_i] = np.argmax(predictions[row_i])\n",
        "\n",
        "print(predictions1D)\n",
        "\n",
        "\n",
        "conf_matrix = np.zeros((10,10),dtype=np.int16)\n",
        "for i in range(len(predictions1D)):\n",
        "\n",
        "    p_class = predictions1D[i]\n",
        "    t_class = test_y[i]\n",
        "    conf_matrix[t_class][p_class] = conf_matrix[t_class][p_class] + 1\n"
      ],
      "execution_count": null,
      "outputs": []
    },
    {
      "cell_type": "code",
      "metadata": {
        "id": "KNq1FB8fzWuI"
      },
      "source": [
        "thresh = conf_matrix.max() / 2.0\n",
        "for i, j in itertools.product(range(conf_matrix.shape[0]), range(conf_matrix.shape[1])):\n",
        "    plt.text(j, i, \"{:,}\".format(conf_matrix[i, j]),\n",
        "            horizontalalignment=\"center\",\n",
        "            color=\"white\" if conf_matrix[i, j] > thresh else \"black\")\n",
        "\n",
        "plt.ylabel('True classes')\n",
        "plt.xlabel('Predicted classes')\n",
        "plt.imshow(conf_matrix, interpolation='nearest', cmap=plt.get_cmap('Blues'))\n",
        "tick_marks = np.arange(len(class_labels))\n",
        "plt.xticks(tick_marks, class_labels, rotation=45)\n",
        "plt.yticks(tick_marks, class_labels)\n",
        "plt.title('Confusion matrix')\n",
        "plt.tight_layout()\n",
        "plt.show()"
      ],
      "execution_count": null,
      "outputs": []
    }
  ]
}